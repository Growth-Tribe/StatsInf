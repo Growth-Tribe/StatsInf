{
  "nbformat": 4,
  "nbformat_minor": 0,
  "metadata": {
    "colab": {
      "name": "Make_a_copy_Stats_Inf.ipynb",
      "provenance": [],
      "collapsed_sections": [],
      "toc_visible": true
    },
    "kernelspec": {
      "name": "python3",
      "display_name": "Python 3"
    }
  },
  "cells": [
    {
      "cell_type": "markdown",
      "metadata": {
        "id": "BSQ92RbbgfsZ",
        "colab_type": "text"
      },
      "source": [
        "\n",
        "\n",
        "# <font color=Darkred>**Statistical inference**</font>\n",
        "---\n",
        "\n",
        "\n",
        "## <font color=Darkblue>**Identifying the impact of an email marketing campaign.**  </font>\n",
        "\n",
        "> Hillstrom, K. (2008) __The MineThatData e-mail analytics and data mining challenge__. [MineThatData blog](http://blog.minethatdata.com/2008/03/minethatdata-e-mail-analytics-and-data.html). Accessed 15 October 2019."
      ]
    },
    {
      "cell_type": "code",
      "metadata": {
        "id": "zizTDHYCroLs",
        "colab_type": "code",
        "colab": {
          "base_uri": "https://localhost:8080/",
          "height": 71
        },
        "outputId": "fae0d5d1-f5ff-4209-df02-ad3830eb956c"
      },
      "source": [
        "# Import the basic python packages for data science\n",
        "import numpy as np\n",
        "import pandas as pd\n",
        "import matplotlib.pyplot as plt\n",
        "\n",
        "import statsmodels.api as sm # Statistical inference models\n",
        "import seaborn as sns # Improve charts / visuals"
      ],
      "execution_count": null,
      "outputs": [
        {
          "output_type": "stream",
          "text": [
            "/usr/local/lib/python3.6/dist-packages/statsmodels/tools/_testing.py:19: FutureWarning: pandas.util.testing is deprecated. Use the functions in the public API at pandas.testing instead.\n",
            "  import pandas.util.testing as tm\n"
          ],
          "name": "stderr"
        }
      ]
    },
    {
      "cell_type": "markdown",
      "metadata": {
        "id": "iU7q4qqqmP6T",
        "colab_type": "text"
      },
      "source": [
        "<br>\n",
        "\n",
        "### <font color=Darkred>**1. The dataset**</font>"
      ]
    },
    {
      "cell_type": "markdown",
      "metadata": {
        "id": "ai2n9t2ftXzn",
        "colab_type": "text"
      },
      "source": [
        "This dataset contains __64,000__ customers who last purchased within twelve months. The customers were involved in an e-mail test.\n",
        "* 1/3 were randomly chosen to receive an e-mail campaign featuring Mens merchandise.\n",
        "* 1/3 were randomly chosen to receive an e-mail campaign featuring Womens merchandise.\n",
        "* 1/3 were randomly chosen to not receive an e-mail campaign.\n",
        "\n",
        "<br>\n",
        "\n",
        "During a period of two weeks following the e-mail campaign, results were tracked. Your job is to tell the world if the Mens or Womens e-mail campaign was successful.\n",
        "\n",
        "Historical customer attributes at your disposal include:\n",
        "* Recency: Months since last purchase.\n",
        "* History_Segment: Categorization of dollars spent in the past year.\n",
        "* History: Actual dollar value spent in the past year.\n",
        "* Mens: 1/0 indicator, 1 = customer purchased Mens merchandise in the past year.\n",
        "* Womens: 1/0 indicator, 1 = customer purchased Womens merchandise in the past year.\n",
        "* Zip_Code: Classifies zip code as Urban, Suburban, or Rural.\n",
        "* Newbie: 1/0 indicator, 1 = New customer in the past twelve months.\n",
        "* Channel: Describes the channels the customer purchased from in the past year.\n",
        "* Segment: describes the e-mail campaign the customer received: Mens E-Mail, Womens E-Mail or No E-Mail.\n",
        "\n",
        "<br>\n",
        "\n",
        "Finally, we have a series of variables describing activity in the two weeks following delivery of the e-mail campaign:\n",
        "\n",
        "* Visit: 1/0 indicator, 1 = Customer visited website in the following two weeks.\n",
        "* Conversion: 1/0 indicator, 1 = Customer purchased merchandise in the following two weeks.\n",
        "* Spend: Actual dollars spent in the following two weeks."
      ]
    },
    {
      "cell_type": "markdown",
      "metadata": {
        "id": "3IFj7L-YlVwe",
        "colab_type": "text"
      },
      "source": [
        " <br>\n",
        " \n",
        " #### <font color=Darkred>**1.1. Import the dataset**</font>"
      ]
    },
    {
      "cell_type": "code",
      "metadata": {
        "id": "8ygBJyE3qqbc",
        "colab_type": "code",
        "colab": {
          "resources": {
            "http://localhost:8080/nbextensions/google.colab/files.js": {
              "data": "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",
              "ok": true,
              "headers": [
                [
                  "content-type",
                  "application/javascript"
                ]
              ],
              "status": 200,
              "status_text": ""
            }
          },
          "base_uri": "https://localhost:8080/",
          "height": 88
        },
        "outputId": "aa46eb11-ef2e-4cbe-a29e-4ffab53f1373"
      },
      "source": [
        "# Import the data from drive\n",
        "\n",
        "from google.colab import files\n",
        "\n",
        "uploaded = files.upload()\n",
        "\n",
        "for fn in uploaded.keys():\n",
        "  print('User uploaded file \"{name}\" with length {length} bytes'.format(\n",
        "      name=fn, length=len(uploaded[fn])))"
      ],
      "execution_count": null,
      "outputs": [
        {
          "output_type": "display_data",
          "data": {
            "text/html": [
              "\n",
              "     <input type=\"file\" id=\"files-1189634f-0e98-49fe-8033-86c422a1beb8\" name=\"files[]\" multiple disabled />\n",
              "     <output id=\"result-1189634f-0e98-49fe-8033-86c422a1beb8\">\n",
              "      Upload widget is only available when the cell has been executed in the\n",
              "      current browser session. Please rerun this cell to enable.\n",
              "      </output>\n",
              "      <script src=\"/nbextensions/google.colab/files.js\"></script> "
            ],
            "text/plain": [
              "<IPython.core.display.HTML object>"
            ]
          },
          "metadata": {
            "tags": []
          }
        },
        {
          "output_type": "stream",
          "text": [
            "Saving MIneThatData_raw.csv to MIneThatData_raw.csv\n",
            "User uploaded file \"MIneThatData_raw.csv\" with length 3900976 bytes\n"
          ],
          "name": "stdout"
        }
      ]
    },
    {
      "cell_type": "markdown",
      "metadata": {
        "id": "I8Zy71T_l79q",
        "colab_type": "text"
      },
      "source": [
        " <br>\n",
        "\n",
        " #### <font color=Darkred>**1.2. Read the file as a dataframe**</font>\n"
      ]
    },
    {
      "cell_type": "code",
      "metadata": {
        "id": "vcmVzbclrE92",
        "colab_type": "code",
        "colab": {
          "base_uri": "https://localhost:8080/",
          "height": 425
        },
        "outputId": "0650bce8-43d0-479b-8844-b6d49c436a5c"
      },
      "source": [
        "# Read the csv file as a pandas dataframe\n",
        "df = pd.read_csv('MIneThatData_raw.csv', \n",
        "               delimiter=',').drop(columns=['history_segment'])\n",
        "\n",
        "# Visualize the dataframe\n",
        "print('Number of rows and columns:', df.shape)\n",
        "print('Data types:', df.dtypes)\n",
        "df.head(5)"
      ],
      "execution_count": null,
      "outputs": [
        {
          "output_type": "stream",
          "text": [
            "Number of rows and columns: (64000, 11)\n",
            "Data types: recency         int64\n",
            "history       float64\n",
            "mens            int64\n",
            "womens          int64\n",
            "zip_code       object\n",
            "newbie          int64\n",
            "channel        object\n",
            "segment        object\n",
            "visit           int64\n",
            "conversion      int64\n",
            "spend         float64\n",
            "dtype: object\n"
          ],
          "name": "stdout"
        },
        {
          "output_type": "execute_result",
          "data": {
            "text/html": [
              "<div>\n",
              "<style scoped>\n",
              "    .dataframe tbody tr th:only-of-type {\n",
              "        vertical-align: middle;\n",
              "    }\n",
              "\n",
              "    .dataframe tbody tr th {\n",
              "        vertical-align: top;\n",
              "    }\n",
              "\n",
              "    .dataframe thead th {\n",
              "        text-align: right;\n",
              "    }\n",
              "</style>\n",
              "<table border=\"1\" class=\"dataframe\">\n",
              "  <thead>\n",
              "    <tr style=\"text-align: right;\">\n",
              "      <th></th>\n",
              "      <th>recency</th>\n",
              "      <th>history</th>\n",
              "      <th>mens</th>\n",
              "      <th>womens</th>\n",
              "      <th>zip_code</th>\n",
              "      <th>newbie</th>\n",
              "      <th>channel</th>\n",
              "      <th>segment</th>\n",
              "      <th>visit</th>\n",
              "      <th>conversion</th>\n",
              "      <th>spend</th>\n",
              "    </tr>\n",
              "  </thead>\n",
              "  <tbody>\n",
              "    <tr>\n",
              "      <th>0</th>\n",
              "      <td>10</td>\n",
              "      <td>142.44</td>\n",
              "      <td>1</td>\n",
              "      <td>0</td>\n",
              "      <td>Surburban</td>\n",
              "      <td>0</td>\n",
              "      <td>Phone</td>\n",
              "      <td>Womens E-Mail</td>\n",
              "      <td>0</td>\n",
              "      <td>0</td>\n",
              "      <td>0.0</td>\n",
              "    </tr>\n",
              "    <tr>\n",
              "      <th>1</th>\n",
              "      <td>6</td>\n",
              "      <td>329.08</td>\n",
              "      <td>1</td>\n",
              "      <td>1</td>\n",
              "      <td>Rural</td>\n",
              "      <td>1</td>\n",
              "      <td>Web</td>\n",
              "      <td>No E-Mail</td>\n",
              "      <td>0</td>\n",
              "      <td>0</td>\n",
              "      <td>0.0</td>\n",
              "    </tr>\n",
              "    <tr>\n",
              "      <th>2</th>\n",
              "      <td>7</td>\n",
              "      <td>180.65</td>\n",
              "      <td>0</td>\n",
              "      <td>1</td>\n",
              "      <td>Surburban</td>\n",
              "      <td>1</td>\n",
              "      <td>Web</td>\n",
              "      <td>Womens E-Mail</td>\n",
              "      <td>0</td>\n",
              "      <td>0</td>\n",
              "      <td>0.0</td>\n",
              "    </tr>\n",
              "    <tr>\n",
              "      <th>3</th>\n",
              "      <td>9</td>\n",
              "      <td>675.83</td>\n",
              "      <td>1</td>\n",
              "      <td>0</td>\n",
              "      <td>Rural</td>\n",
              "      <td>1</td>\n",
              "      <td>Web</td>\n",
              "      <td>Mens E-Mail</td>\n",
              "      <td>0</td>\n",
              "      <td>0</td>\n",
              "      <td>0.0</td>\n",
              "    </tr>\n",
              "    <tr>\n",
              "      <th>4</th>\n",
              "      <td>2</td>\n",
              "      <td>45.34</td>\n",
              "      <td>1</td>\n",
              "      <td>0</td>\n",
              "      <td>Urban</td>\n",
              "      <td>0</td>\n",
              "      <td>Web</td>\n",
              "      <td>Womens E-Mail</td>\n",
              "      <td>0</td>\n",
              "      <td>0</td>\n",
              "      <td>0.0</td>\n",
              "    </tr>\n",
              "  </tbody>\n",
              "</table>\n",
              "</div>"
            ],
            "text/plain": [
              "   recency  history  mens  womens  ...        segment  visit conversion spend\n",
              "0       10   142.44     1       0  ...  Womens E-Mail      0          0   0.0\n",
              "1        6   329.08     1       1  ...      No E-Mail      0          0   0.0\n",
              "2        7   180.65     0       1  ...  Womens E-Mail      0          0   0.0\n",
              "3        9   675.83     1       0  ...    Mens E-Mail      0          0   0.0\n",
              "4        2    45.34     1       0  ...  Womens E-Mail      0          0   0.0\n",
              "\n",
              "[5 rows x 11 columns]"
            ]
          },
          "metadata": {
            "tags": []
          },
          "execution_count": 3
        }
      ]
    },
    {
      "cell_type": "markdown",
      "metadata": {
        "id": "-UBclh8KmZCz",
        "colab_type": "text"
      },
      "source": [
        "<br>\n",
        " \n",
        "#### <font color=Darkred>**1.3. One-hot encoding (dummyfication) of the categorical variables** </font>"
      ]
    },
    {
      "cell_type": "code",
      "metadata": {
        "id": "Mic934zs1Zvg",
        "colab_type": "code",
        "colab": {
          "base_uri": "https://localhost:8080/",
          "height": 241
        },
        "outputId": "5f9f811b-8cbe-4b95-d731-f0b32d963ccb"
      },
      "source": [
        "# To drop the first label category (to avoid the \"dummy variable trap\"), use drop_first = True\n",
        "df1 = pd.get_dummies(df, drop_first=False)\n",
        "df1.head(5)"
      ],
      "execution_count": null,
      "outputs": [
        {
          "output_type": "execute_result",
          "data": {
            "text/html": [
              "<div>\n",
              "<style scoped>\n",
              "    .dataframe tbody tr th:only-of-type {\n",
              "        vertical-align: middle;\n",
              "    }\n",
              "\n",
              "    .dataframe tbody tr th {\n",
              "        vertical-align: top;\n",
              "    }\n",
              "\n",
              "    .dataframe thead th {\n",
              "        text-align: right;\n",
              "    }\n",
              "</style>\n",
              "<table border=\"1\" class=\"dataframe\">\n",
              "  <thead>\n",
              "    <tr style=\"text-align: right;\">\n",
              "      <th></th>\n",
              "      <th>recency</th>\n",
              "      <th>history</th>\n",
              "      <th>mens</th>\n",
              "      <th>womens</th>\n",
              "      <th>newbie</th>\n",
              "      <th>visit</th>\n",
              "      <th>conversion</th>\n",
              "      <th>spend</th>\n",
              "      <th>zip_code_Rural</th>\n",
              "      <th>zip_code_Surburban</th>\n",
              "      <th>zip_code_Urban</th>\n",
              "      <th>channel_Multichannel</th>\n",
              "      <th>channel_Phone</th>\n",
              "      <th>channel_Web</th>\n",
              "      <th>segment_Mens E-Mail</th>\n",
              "      <th>segment_No E-Mail</th>\n",
              "      <th>segment_Womens E-Mail</th>\n",
              "    </tr>\n",
              "  </thead>\n",
              "  <tbody>\n",
              "    <tr>\n",
              "      <th>0</th>\n",
              "      <td>10</td>\n",
              "      <td>142.44</td>\n",
              "      <td>1</td>\n",
              "      <td>0</td>\n",
              "      <td>0</td>\n",
              "      <td>0</td>\n",
              "      <td>0</td>\n",
              "      <td>0.0</td>\n",
              "      <td>0</td>\n",
              "      <td>1</td>\n",
              "      <td>0</td>\n",
              "      <td>0</td>\n",
              "      <td>1</td>\n",
              "      <td>0</td>\n",
              "      <td>0</td>\n",
              "      <td>0</td>\n",
              "      <td>1</td>\n",
              "    </tr>\n",
              "    <tr>\n",
              "      <th>1</th>\n",
              "      <td>6</td>\n",
              "      <td>329.08</td>\n",
              "      <td>1</td>\n",
              "      <td>1</td>\n",
              "      <td>1</td>\n",
              "      <td>0</td>\n",
              "      <td>0</td>\n",
              "      <td>0.0</td>\n",
              "      <td>1</td>\n",
              "      <td>0</td>\n",
              "      <td>0</td>\n",
              "      <td>0</td>\n",
              "      <td>0</td>\n",
              "      <td>1</td>\n",
              "      <td>0</td>\n",
              "      <td>1</td>\n",
              "      <td>0</td>\n",
              "    </tr>\n",
              "    <tr>\n",
              "      <th>2</th>\n",
              "      <td>7</td>\n",
              "      <td>180.65</td>\n",
              "      <td>0</td>\n",
              "      <td>1</td>\n",
              "      <td>1</td>\n",
              "      <td>0</td>\n",
              "      <td>0</td>\n",
              "      <td>0.0</td>\n",
              "      <td>0</td>\n",
              "      <td>1</td>\n",
              "      <td>0</td>\n",
              "      <td>0</td>\n",
              "      <td>0</td>\n",
              "      <td>1</td>\n",
              "      <td>0</td>\n",
              "      <td>0</td>\n",
              "      <td>1</td>\n",
              "    </tr>\n",
              "    <tr>\n",
              "      <th>3</th>\n",
              "      <td>9</td>\n",
              "      <td>675.83</td>\n",
              "      <td>1</td>\n",
              "      <td>0</td>\n",
              "      <td>1</td>\n",
              "      <td>0</td>\n",
              "      <td>0</td>\n",
              "      <td>0.0</td>\n",
              "      <td>1</td>\n",
              "      <td>0</td>\n",
              "      <td>0</td>\n",
              "      <td>0</td>\n",
              "      <td>0</td>\n",
              "      <td>1</td>\n",
              "      <td>1</td>\n",
              "      <td>0</td>\n",
              "      <td>0</td>\n",
              "    </tr>\n",
              "    <tr>\n",
              "      <th>4</th>\n",
              "      <td>2</td>\n",
              "      <td>45.34</td>\n",
              "      <td>1</td>\n",
              "      <td>0</td>\n",
              "      <td>0</td>\n",
              "      <td>0</td>\n",
              "      <td>0</td>\n",
              "      <td>0.0</td>\n",
              "      <td>0</td>\n",
              "      <td>0</td>\n",
              "      <td>1</td>\n",
              "      <td>0</td>\n",
              "      <td>0</td>\n",
              "      <td>1</td>\n",
              "      <td>0</td>\n",
              "      <td>0</td>\n",
              "      <td>1</td>\n",
              "    </tr>\n",
              "  </tbody>\n",
              "</table>\n",
              "</div>"
            ],
            "text/plain": [
              "   recency  history  ...  segment_No E-Mail  segment_Womens E-Mail\n",
              "0       10   142.44  ...                  0                      1\n",
              "1        6   329.08  ...                  1                      0\n",
              "2        7   180.65  ...                  0                      1\n",
              "3        9   675.83  ...                  0                      0\n",
              "4        2    45.34  ...                  0                      1\n",
              "\n",
              "[5 rows x 17 columns]"
            ]
          },
          "metadata": {
            "tags": []
          },
          "execution_count": 4
        }
      ]
    },
    {
      "cell_type": "markdown",
      "metadata": {
        "id": "QTgUy2h7j02R",
        "colab_type": "text"
      },
      "source": [
        "<br>\n",
        "\n",
        "### <font color=Darkred>**2. Descriptive analysis**</font>"
      ]
    },
    {
      "cell_type": "markdown",
      "metadata": {
        "id": "sAWBgclPlDBB",
        "colab_type": "text"
      },
      "source": [
        "#### <font color=Darkred>**2.1 Summary statistics**</font>\n"
      ]
    },
    {
      "cell_type": "code",
      "metadata": {
        "id": "zwS41Hlo2brq",
        "colab_type": "code",
        "colab": {
          "base_uri": "https://localhost:8080/",
          "height": 576
        },
        "outputId": "02bca2b6-3bd0-464a-b472-d1917fb3fd4e"
      },
      "source": [
        "df1.describe().round(2).T"
      ],
      "execution_count": null,
      "outputs": [
        {
          "output_type": "execute_result",
          "data": {
            "text/html": [
              "<div>\n",
              "<style scoped>\n",
              "    .dataframe tbody tr th:only-of-type {\n",
              "        vertical-align: middle;\n",
              "    }\n",
              "\n",
              "    .dataframe tbody tr th {\n",
              "        vertical-align: top;\n",
              "    }\n",
              "\n",
              "    .dataframe thead th {\n",
              "        text-align: right;\n",
              "    }\n",
              "</style>\n",
              "<table border=\"1\" class=\"dataframe\">\n",
              "  <thead>\n",
              "    <tr style=\"text-align: right;\">\n",
              "      <th></th>\n",
              "      <th>count</th>\n",
              "      <th>mean</th>\n",
              "      <th>std</th>\n",
              "      <th>min</th>\n",
              "      <th>25%</th>\n",
              "      <th>50%</th>\n",
              "      <th>75%</th>\n",
              "      <th>max</th>\n",
              "    </tr>\n",
              "  </thead>\n",
              "  <tbody>\n",
              "    <tr>\n",
              "      <th>recency</th>\n",
              "      <td>64000.0</td>\n",
              "      <td>5.76</td>\n",
              "      <td>3.51</td>\n",
              "      <td>1.00</td>\n",
              "      <td>2.00</td>\n",
              "      <td>6.00</td>\n",
              "      <td>9.00</td>\n",
              "      <td>12.00</td>\n",
              "    </tr>\n",
              "    <tr>\n",
              "      <th>history</th>\n",
              "      <td>64000.0</td>\n",
              "      <td>242.09</td>\n",
              "      <td>256.16</td>\n",
              "      <td>29.99</td>\n",
              "      <td>64.66</td>\n",
              "      <td>158.11</td>\n",
              "      <td>325.66</td>\n",
              "      <td>3345.93</td>\n",
              "    </tr>\n",
              "    <tr>\n",
              "      <th>mens</th>\n",
              "      <td>64000.0</td>\n",
              "      <td>0.55</td>\n",
              "      <td>0.50</td>\n",
              "      <td>0.00</td>\n",
              "      <td>0.00</td>\n",
              "      <td>1.00</td>\n",
              "      <td>1.00</td>\n",
              "      <td>1.00</td>\n",
              "    </tr>\n",
              "    <tr>\n",
              "      <th>womens</th>\n",
              "      <td>64000.0</td>\n",
              "      <td>0.55</td>\n",
              "      <td>0.50</td>\n",
              "      <td>0.00</td>\n",
              "      <td>0.00</td>\n",
              "      <td>1.00</td>\n",
              "      <td>1.00</td>\n",
              "      <td>1.00</td>\n",
              "    </tr>\n",
              "    <tr>\n",
              "      <th>newbie</th>\n",
              "      <td>64000.0</td>\n",
              "      <td>0.50</td>\n",
              "      <td>0.50</td>\n",
              "      <td>0.00</td>\n",
              "      <td>0.00</td>\n",
              "      <td>1.00</td>\n",
              "      <td>1.00</td>\n",
              "      <td>1.00</td>\n",
              "    </tr>\n",
              "    <tr>\n",
              "      <th>visit</th>\n",
              "      <td>64000.0</td>\n",
              "      <td>0.15</td>\n",
              "      <td>0.35</td>\n",
              "      <td>0.00</td>\n",
              "      <td>0.00</td>\n",
              "      <td>0.00</td>\n",
              "      <td>0.00</td>\n",
              "      <td>1.00</td>\n",
              "    </tr>\n",
              "    <tr>\n",
              "      <th>conversion</th>\n",
              "      <td>64000.0</td>\n",
              "      <td>0.01</td>\n",
              "      <td>0.09</td>\n",
              "      <td>0.00</td>\n",
              "      <td>0.00</td>\n",
              "      <td>0.00</td>\n",
              "      <td>0.00</td>\n",
              "      <td>1.00</td>\n",
              "    </tr>\n",
              "    <tr>\n",
              "      <th>spend</th>\n",
              "      <td>64000.0</td>\n",
              "      <td>1.05</td>\n",
              "      <td>15.04</td>\n",
              "      <td>0.00</td>\n",
              "      <td>0.00</td>\n",
              "      <td>0.00</td>\n",
              "      <td>0.00</td>\n",
              "      <td>499.00</td>\n",
              "    </tr>\n",
              "    <tr>\n",
              "      <th>zip_code_Rural</th>\n",
              "      <td>64000.0</td>\n",
              "      <td>0.15</td>\n",
              "      <td>0.36</td>\n",
              "      <td>0.00</td>\n",
              "      <td>0.00</td>\n",
              "      <td>0.00</td>\n",
              "      <td>0.00</td>\n",
              "      <td>1.00</td>\n",
              "    </tr>\n",
              "    <tr>\n",
              "      <th>zip_code_Surburban</th>\n",
              "      <td>64000.0</td>\n",
              "      <td>0.45</td>\n",
              "      <td>0.50</td>\n",
              "      <td>0.00</td>\n",
              "      <td>0.00</td>\n",
              "      <td>0.00</td>\n",
              "      <td>1.00</td>\n",
              "      <td>1.00</td>\n",
              "    </tr>\n",
              "    <tr>\n",
              "      <th>zip_code_Urban</th>\n",
              "      <td>64000.0</td>\n",
              "      <td>0.40</td>\n",
              "      <td>0.49</td>\n",
              "      <td>0.00</td>\n",
              "      <td>0.00</td>\n",
              "      <td>0.00</td>\n",
              "      <td>1.00</td>\n",
              "      <td>1.00</td>\n",
              "    </tr>\n",
              "    <tr>\n",
              "      <th>channel_Multichannel</th>\n",
              "      <td>64000.0</td>\n",
              "      <td>0.12</td>\n",
              "      <td>0.33</td>\n",
              "      <td>0.00</td>\n",
              "      <td>0.00</td>\n",
              "      <td>0.00</td>\n",
              "      <td>0.00</td>\n",
              "      <td>1.00</td>\n",
              "    </tr>\n",
              "    <tr>\n",
              "      <th>channel_Phone</th>\n",
              "      <td>64000.0</td>\n",
              "      <td>0.44</td>\n",
              "      <td>0.50</td>\n",
              "      <td>0.00</td>\n",
              "      <td>0.00</td>\n",
              "      <td>0.00</td>\n",
              "      <td>1.00</td>\n",
              "      <td>1.00</td>\n",
              "    </tr>\n",
              "    <tr>\n",
              "      <th>channel_Web</th>\n",
              "      <td>64000.0</td>\n",
              "      <td>0.44</td>\n",
              "      <td>0.50</td>\n",
              "      <td>0.00</td>\n",
              "      <td>0.00</td>\n",
              "      <td>0.00</td>\n",
              "      <td>1.00</td>\n",
              "      <td>1.00</td>\n",
              "    </tr>\n",
              "    <tr>\n",
              "      <th>segment_Mens E-Mail</th>\n",
              "      <td>64000.0</td>\n",
              "      <td>0.33</td>\n",
              "      <td>0.47</td>\n",
              "      <td>0.00</td>\n",
              "      <td>0.00</td>\n",
              "      <td>0.00</td>\n",
              "      <td>1.00</td>\n",
              "      <td>1.00</td>\n",
              "    </tr>\n",
              "    <tr>\n",
              "      <th>segment_No E-Mail</th>\n",
              "      <td>64000.0</td>\n",
              "      <td>0.33</td>\n",
              "      <td>0.47</td>\n",
              "      <td>0.00</td>\n",
              "      <td>0.00</td>\n",
              "      <td>0.00</td>\n",
              "      <td>1.00</td>\n",
              "      <td>1.00</td>\n",
              "    </tr>\n",
              "    <tr>\n",
              "      <th>segment_Womens E-Mail</th>\n",
              "      <td>64000.0</td>\n",
              "      <td>0.33</td>\n",
              "      <td>0.47</td>\n",
              "      <td>0.00</td>\n",
              "      <td>0.00</td>\n",
              "      <td>0.00</td>\n",
              "      <td>1.00</td>\n",
              "      <td>1.00</td>\n",
              "    </tr>\n",
              "  </tbody>\n",
              "</table>\n",
              "</div>"
            ],
            "text/plain": [
              "                         count    mean     std  ...     50%     75%      max\n",
              "recency                64000.0    5.76    3.51  ...    6.00    9.00    12.00\n",
              "history                64000.0  242.09  256.16  ...  158.11  325.66  3345.93\n",
              "mens                   64000.0    0.55    0.50  ...    1.00    1.00     1.00\n",
              "womens                 64000.0    0.55    0.50  ...    1.00    1.00     1.00\n",
              "newbie                 64000.0    0.50    0.50  ...    1.00    1.00     1.00\n",
              "visit                  64000.0    0.15    0.35  ...    0.00    0.00     1.00\n",
              "conversion             64000.0    0.01    0.09  ...    0.00    0.00     1.00\n",
              "spend                  64000.0    1.05   15.04  ...    0.00    0.00   499.00\n",
              "zip_code_Rural         64000.0    0.15    0.36  ...    0.00    0.00     1.00\n",
              "zip_code_Surburban     64000.0    0.45    0.50  ...    0.00    1.00     1.00\n",
              "zip_code_Urban         64000.0    0.40    0.49  ...    0.00    1.00     1.00\n",
              "channel_Multichannel   64000.0    0.12    0.33  ...    0.00    0.00     1.00\n",
              "channel_Phone          64000.0    0.44    0.50  ...    0.00    1.00     1.00\n",
              "channel_Web            64000.0    0.44    0.50  ...    0.00    1.00     1.00\n",
              "segment_Mens E-Mail    64000.0    0.33    0.47  ...    0.00    1.00     1.00\n",
              "segment_No E-Mail      64000.0    0.33    0.47  ...    0.00    1.00     1.00\n",
              "segment_Womens E-Mail  64000.0    0.33    0.47  ...    0.00    1.00     1.00\n",
              "\n",
              "[17 rows x 8 columns]"
            ]
          },
          "metadata": {
            "tags": []
          },
          "execution_count": 5
        }
      ]
    },
    {
      "cell_type": "markdown",
      "metadata": {
        "id": "dhQBZtU5ALH9",
        "colab_type": "text"
      },
      "source": [
        "<br>\n",
        "\n",
        "#### <font color=Darkred>**2.2. Descriptive charts**</font>\n"
      ]
    },
    {
      "cell_type": "markdown",
      "metadata": {
        "id": "JZoE63REYkBF",
        "colab_type": "text"
      },
      "source": [
        "\n",
        "Let's inspect the distribution of how much these customers **spent in the last year** (variable = history)."
      ]
    },
    {
      "cell_type": "code",
      "metadata": {
        "id": "7Nf4bk3Z3pXu",
        "colab_type": "code",
        "colab": {
          "base_uri": "https://localhost:8080/",
          "height": 299
        },
        "outputId": "9600b225-1e11-4992-a94f-74f15aff987e"
      },
      "source": [
        "# Initialize the plot\n",
        "plt.figure(figsize=(35,4))\n",
        "\n",
        "# Create a histogram to observe the distribution of 'history' ($ spent last year)\n",
        "plt.subplot(1,2,1)\n",
        "graph1 = sns.distplot(df1['history'], kde = False, norm_hist = False, \n",
        "             hist_kws=dict(edgecolor=\"k\", linewidth=1))\n",
        "sns.despine(top=True, right=True, left=False, bottom=False)\n",
        "\n",
        "# Further customize\n",
        "plt.title('Purchase history', loc = \"left\", size = 'xx-large', pad = 40)\n",
        "plt.xlabel('$ spent last 12 months', size = 'x-large')\n",
        "plt.xlim(0, 2000)\n",
        "plt.ylabel('Frequency', size = 'x-large');\n",
        "\n",
        "plt.show()"
      ],
      "execution_count": null,
      "outputs": [
        {
          "output_type": "display_data",
          "data": {
            "image/png": "[encoded data removed]",
            "text/plain": [
              "<Figure size 2520x288 with 1 Axes>"
            ]
          },
          "metadata": {
            "tags": [],
            "needs_background": "light"
          }
        }
      ]
    },
    {
      "cell_type": "markdown",
      "metadata": {
        "id": "UuvJ2TCAen5M",
        "colab_type": "text"
      },
      "source": [
        "<br>\n",
        "\n",
        "Also, inspect the distribution of **recency**, i.e. how many months since last purchase."
      ]
    },
    {
      "cell_type": "code",
      "metadata": {
        "id": "sPoYLUAS9zoF",
        "colab_type": "code",
        "colab": {
          "base_uri": "https://localhost:8080/",
          "height": 303
        },
        "outputId": "b463a20b-40b8-4f34-a8f8-784e2c7b1a11"
      },
      "source": [
        "# Initialize the plot\n",
        "plt.figure(figsize=(35,4))\n",
        "\n",
        "# Create a histogram to observe the distribution of 'history' ($ spent last year)\n",
        "plt.subplot(1,2,1)\n",
        "graph2 = sns.distplot(df1['recency'], kde = False, norm_hist = False, \n",
        "             hist_kws=dict(edgecolor=\"k\", linewidth=1))\n",
        "sns.despine(top=True, right=True, left=False, bottom=False)\n",
        "\n",
        "# Further customize\n",
        "plt.title('Recency', loc = \"left\", size = 'xx-large', pad = 40)\n",
        "plt.xlabel('Months since last purchase', size = 'x-large')\n",
        "plt.xlim(1, 12)\n",
        "plt.ylabel('Frequency', size = 'x-large');\n",
        "\n",
        "plt.show()"
      ],
      "execution_count": null,
      "outputs": [
        {
          "output_type": "display_data",
          "data": {
            "image/png": "[encoded data removed]",
            "text/plain": [
              "<Figure size 2520x288 with 1 Axes>"
            ]
          },
          "metadata": {
            "tags": [],
            "needs_background": "light"
          }
        }
      ]
    },
    {
      "cell_type": "markdown",
      "metadata": {
        "id": "GTh757D4AoMZ",
        "colab_type": "text"
      },
      "source": [
        "<br>\n",
        "\n",
        "### <font color=Darkred>**3. Testing the hypothesis**</font>"
      ]
    },
    {
      "cell_type": "markdown",
      "metadata": {
        "id": "0hqq-lgTQPOe",
        "colab_type": "text"
      },
      "source": [
        "#### <font color=Darkred>**3.1. Simple comparison the outcome variables by segment**</font>"
      ]
    },
    {
      "cell_type": "code",
      "metadata": {
        "id": "yT7FJwhLAne2",
        "colab_type": "code",
        "colab": {
          "base_uri": "https://localhost:8080/",
          "height": 793
        },
        "outputId": "fb0b7f6b-2d9c-461f-f970-fc2c4adbe4b2"
      },
      "source": [
        "# Read the csv file as a new pandas dataframe\n",
        "df2 = pd.read_csv('MIneThatData_raw.csv', \n",
        "               delimiter=',').drop(columns=['history_segment'])\n",
        "\n",
        "# To produce a table with the descriptive stats by segment\n",
        "df2[['segment','spend','visit','conversion']].groupby('segment').describe().round(2).T\n",
        "\n",
        "# Could also add e.g 'newbie','history','recency' as vars to check group balance."
      ],
      "execution_count": null,
      "outputs": [
        {
          "output_type": "execute_result",
          "data": {
            "text/html": [
              "<div>\n",
              "<style scoped>\n",
              "    .dataframe tbody tr th:only-of-type {\n",
              "        vertical-align: middle;\n",
              "    }\n",
              "\n",
              "    .dataframe tbody tr th {\n",
              "        vertical-align: top;\n",
              "    }\n",
              "\n",
              "    .dataframe thead th {\n",
              "        text-align: right;\n",
              "    }\n",
              "</style>\n",
              "<table border=\"1\" class=\"dataframe\">\n",
              "  <thead>\n",
              "    <tr style=\"text-align: right;\">\n",
              "      <th></th>\n",
              "      <th>segment</th>\n",
              "      <th>Mens E-Mail</th>\n",
              "      <th>No E-Mail</th>\n",
              "      <th>Womens E-Mail</th>\n",
              "    </tr>\n",
              "  </thead>\n",
              "  <tbody>\n",
              "    <tr>\n",
              "      <th rowspan=\"8\" valign=\"top\">spend</th>\n",
              "      <th>count</th>\n",
              "      <td>21307.00</td>\n",
              "      <td>21306.00</td>\n",
              "      <td>21387.00</td>\n",
              "    </tr>\n",
              "    <tr>\n",
              "      <th>mean</th>\n",
              "      <td>1.42</td>\n",
              "      <td>0.65</td>\n",
              "      <td>1.08</td>\n",
              "    </tr>\n",
              "    <tr>\n",
              "      <th>std</th>\n",
              "      <td>17.75</td>\n",
              "      <td>11.59</td>\n",
              "      <td>15.12</td>\n",
              "    </tr>\n",
              "    <tr>\n",
              "      <th>min</th>\n",
              "      <td>0.00</td>\n",
              "      <td>0.00</td>\n",
              "      <td>0.00</td>\n",
              "    </tr>\n",
              "    <tr>\n",
              "      <th>25%</th>\n",
              "      <td>0.00</td>\n",
              "      <td>0.00</td>\n",
              "      <td>0.00</td>\n",
              "    </tr>\n",
              "    <tr>\n",
              "      <th>50%</th>\n",
              "      <td>0.00</td>\n",
              "      <td>0.00</td>\n",
              "      <td>0.00</td>\n",
              "    </tr>\n",
              "    <tr>\n",
              "      <th>75%</th>\n",
              "      <td>0.00</td>\n",
              "      <td>0.00</td>\n",
              "      <td>0.00</td>\n",
              "    </tr>\n",
              "    <tr>\n",
              "      <th>max</th>\n",
              "      <td>499.00</td>\n",
              "      <td>499.00</td>\n",
              "      <td>499.00</td>\n",
              "    </tr>\n",
              "    <tr>\n",
              "      <th rowspan=\"8\" valign=\"top\">visit</th>\n",
              "      <th>count</th>\n",
              "      <td>21307.00</td>\n",
              "      <td>21306.00</td>\n",
              "      <td>21387.00</td>\n",
              "    </tr>\n",
              "    <tr>\n",
              "      <th>mean</th>\n",
              "      <td>0.18</td>\n",
              "      <td>0.11</td>\n",
              "      <td>0.15</td>\n",
              "    </tr>\n",
              "    <tr>\n",
              "      <th>std</th>\n",
              "      <td>0.39</td>\n",
              "      <td>0.31</td>\n",
              "      <td>0.36</td>\n",
              "    </tr>\n",
              "    <tr>\n",
              "      <th>min</th>\n",
              "      <td>0.00</td>\n",
              "      <td>0.00</td>\n",
              "      <td>0.00</td>\n",
              "    </tr>\n",
              "    <tr>\n",
              "      <th>25%</th>\n",
              "      <td>0.00</td>\n",
              "      <td>0.00</td>\n",
              "      <td>0.00</td>\n",
              "    </tr>\n",
              "    <tr>\n",
              "      <th>50%</th>\n",
              "      <td>0.00</td>\n",
              "      <td>0.00</td>\n",
              "      <td>0.00</td>\n",
              "    </tr>\n",
              "    <tr>\n",
              "      <th>75%</th>\n",
              "      <td>0.00</td>\n",
              "      <td>0.00</td>\n",
              "      <td>0.00</td>\n",
              "    </tr>\n",
              "    <tr>\n",
              "      <th>max</th>\n",
              "      <td>1.00</td>\n",
              "      <td>1.00</td>\n",
              "      <td>1.00</td>\n",
              "    </tr>\n",
              "    <tr>\n",
              "      <th rowspan=\"8\" valign=\"top\">conversion</th>\n",
              "      <th>count</th>\n",
              "      <td>21307.00</td>\n",
              "      <td>21306.00</td>\n",
              "      <td>21387.00</td>\n",
              "    </tr>\n",
              "    <tr>\n",
              "      <th>mean</th>\n",
              "      <td>0.01</td>\n",
              "      <td>0.01</td>\n",
              "      <td>0.01</td>\n",
              "    </tr>\n",
              "    <tr>\n",
              "      <th>std</th>\n",
              "      <td>0.11</td>\n",
              "      <td>0.08</td>\n",
              "      <td>0.09</td>\n",
              "    </tr>\n",
              "    <tr>\n",
              "      <th>min</th>\n",
              "      <td>0.00</td>\n",
              "      <td>0.00</td>\n",
              "      <td>0.00</td>\n",
              "    </tr>\n",
              "    <tr>\n",
              "      <th>25%</th>\n",
              "      <td>0.00</td>\n",
              "      <td>0.00</td>\n",
              "      <td>0.00</td>\n",
              "    </tr>\n",
              "    <tr>\n",
              "      <th>50%</th>\n",
              "      <td>0.00</td>\n",
              "      <td>0.00</td>\n",
              "      <td>0.00</td>\n",
              "    </tr>\n",
              "    <tr>\n",
              "      <th>75%</th>\n",
              "      <td>0.00</td>\n",
              "      <td>0.00</td>\n",
              "      <td>0.00</td>\n",
              "    </tr>\n",
              "    <tr>\n",
              "      <th>max</th>\n",
              "      <td>1.00</td>\n",
              "      <td>1.00</td>\n",
              "      <td>1.00</td>\n",
              "    </tr>\n",
              "  </tbody>\n",
              "</table>\n",
              "</div>"
            ],
            "text/plain": [
              "segment           Mens E-Mail  No E-Mail  Womens E-Mail\n",
              "spend      count     21307.00   21306.00       21387.00\n",
              "           mean          1.42       0.65           1.08\n",
              "           std          17.75      11.59          15.12\n",
              "           min           0.00       0.00           0.00\n",
              "           25%           0.00       0.00           0.00\n",
              "           50%           0.00       0.00           0.00\n",
              "           75%           0.00       0.00           0.00\n",
              "           max         499.00     499.00         499.00\n",
              "visit      count     21307.00   21306.00       21387.00\n",
              "           mean          0.18       0.11           0.15\n",
              "           std           0.39       0.31           0.36\n",
              "           min           0.00       0.00           0.00\n",
              "           25%           0.00       0.00           0.00\n",
              "           50%           0.00       0.00           0.00\n",
              "           75%           0.00       0.00           0.00\n",
              "           max           1.00       1.00           1.00\n",
              "conversion count     21307.00   21306.00       21387.00\n",
              "           mean          0.01       0.01           0.01\n",
              "           std           0.11       0.08           0.09\n",
              "           min           0.00       0.00           0.00\n",
              "           25%           0.00       0.00           0.00\n",
              "           50%           0.00       0.00           0.00\n",
              "           75%           0.00       0.00           0.00\n",
              "           max           1.00       1.00           1.00"
            ]
          },
          "metadata": {
            "tags": []
          },
          "execution_count": 8
        }
      ]
    },
    {
      "cell_type": "markdown",
      "metadata": {
        "id": "3Kljasa1Qm4t",
        "colab_type": "text"
      },
      "source": [
        "<br> \n",
        "\n",
        "#### <font color=Darkred>**3.2. Bar plot of the outcome variables by segment**</font>"
      ]
    },
    {
      "cell_type": "code",
      "metadata": {
        "id": "NCWZqWdeJCaL",
        "colab_type": "code",
        "colab": {
          "base_uri": "https://localhost:8080/",
          "height": 581
        },
        "outputId": "092ba960-acd9-4a73-c9ae-4eeea9b6f9bb"
      },
      "source": [
        "# Initialize the plot\n",
        "plt.figure(figsize=(10,8))\n",
        "\n",
        "# Plots\n",
        "sns.set(style=\"whitegrid\")\n",
        "graph3 = sns.barplot(x=\"segment\", y=\"spend\", data=df2, \n",
        "                     capsize=.05, palette=\"Paired\")\n",
        "\n",
        "# Further customize\n",
        "plt.xlabel('Segment', size = 'x-large')\n",
        "plt.ylim(0, 2 )\n",
        "plt.ylabel('In USD', size = 'x-large') \n",
        "\n",
        "plt.title('Actual dollars spent in the following two weeks', \n",
        "          loc = \"left\", size = 'xx-large', pad = 40)\n",
        "plt.tight_layout()\n",
        "\n",
        "plt.show()\n",
        "\n",
        "# Could repeat this for 'visit' and 'conversion' if needed"
      ],
      "execution_count": null,
      "outputs": [
        {
          "output_type": "display_data",
          "data": {
            "image/png": "[encoded data removed]",
            "text/plain": [
              "<Figure size 720x576 with 1 Axes>"
            ]
          },
          "metadata": {
            "tags": [],
            "needs_background": "light"
          }
        }
      ]
    },
    {
      "cell_type": "markdown",
      "metadata": {
        "id": "6EVVPybDUta7",
        "colab_type": "text"
      },
      "source": [
        "<br>\n",
        "\n",
        "#### <font color=Darkred>**3.3. Bar plot of the outcome variables by segment and whether customer is new**</font>"
      ]
    },
    {
      "cell_type": "code",
      "metadata": {
        "id": "R3OabEo3UtGl",
        "colab_type": "code",
        "colab": {
          "base_uri": "https://localhost:8080/",
          "height": 581
        },
        "outputId": "1d8c6592-bee6-49f6-bdbd-e19c48345a1b"
      },
      "source": [
        "# Initialize the plot\n",
        "plt.figure(figsize=(12,8))\n",
        "\n",
        "# Plots\n",
        "sns.set(style=\"whitegrid\")\n",
        "graph4 = sns.barplot(x=\"newbie\", y=\"spend\", hue=\"segment\", data=df2, \n",
        "                     capsize=.02, palette=\"Paired\")\n",
        "\n",
        "# Further customize\n",
        "plt.xlabel('Returning = 0, Newbie = 1', size = 'x-large')\n",
        "plt.ylim(0, 2 )\n",
        "plt.ylabel('In USD', size = 'x-large') \n",
        "\n",
        "plt.legend(loc= 'upper left', fontsize=\"x-large\")\n",
        "\n",
        "plt.title('Actual dollars spent in the following two weeks', \n",
        "          loc = \"left\", size = 'xx-large', pad = 40)\n",
        "plt.tight_layout()\n",
        "\n",
        "plt.show()\n",
        "\n",
        "# Could repeat this for 'visit' and 'conversion' if needed"
      ],
      "execution_count": null,
      "outputs": [
        {
          "output_type": "display_data",
          "data": {
            "image/png": "[encoded data removed]",
            "text/plain": [
              "<Figure size 864x576 with 1 Axes>"
            ]
          },
          "metadata": {
            "tags": []
          }
        }
      ]
    },
    {
      "cell_type": "markdown",
      "metadata": {
        "id": "Lnk0b9leXuvS",
        "colab_type": "text"
      },
      "source": [
        "<br>\n",
        "\n",
        "#### <font color=Darkred>**3.4. Regression analysis of the amount spent in the next two weeks**</font>"
      ]
    },
    {
      "cell_type": "markdown",
      "metadata": {
        "id": "DAeDUEzJ7ck1",
        "colab_type": "text"
      },
      "source": [
        "We can also get a summary of the relationships between the covariates (features, predictors, explanatory variables) and the outcome.\n",
        "\n",
        "For this we run an Ordinary least Square Regression (the multivariate model)."
      ]
    },
    {
      "cell_type": "code",
      "metadata": {
        "id": "F74F3E_AXu9o",
        "colab_type": "code",
        "colab": {
          "base_uri": "https://localhost:8080/",
          "height": 459
        },
        "outputId": "bf06d949-d17f-4661-d5e3-1ef44f48d736"
      },
      "source": [
        "# Estimate the OLS model (using the statsmodel package - 5 lines of code)\n",
        "\n",
        "y = df1[['spend']]\n",
        "X = df1[['segment_Mens E-Mail', 'segment_Womens E-Mail']]\n",
        "X = sm.add_constant(X) # This will give us the level spent for \"No E-Mail\".\n",
        "\n",
        "model1 = sm.OLS(y, X)\n",
        "results1 = model1.fit()\n",
        "print(results1.summary())"
      ],
      "execution_count": null,
      "outputs": [
        {
          "output_type": "stream",
          "text": [
            "                            OLS Regression Results                            \n",
            "==============================================================================\n",
            "Dep. Variable:                  spend   R-squared:                       0.000\n",
            "Model:                            OLS   Adj. R-squared:                  0.000\n",
            "Method:                 Least Squares   F-statistic:                     14.02\n",
            "Date:                Thu, 14 May 2020   Prob (F-statistic):           8.20e-07\n",
            "Time:                        10:23:17   Log-Likelihood:            -2.6427e+05\n",
            "No. Observations:               64000   AIC:                         5.285e+05\n",
            "Df Residuals:                   63997   BIC:                         5.286e+05\n",
            "Df Model:                           2                                         \n",
            "Covariance Type:            nonrobust                                         \n",
            "=========================================================================================\n",
            "                            coef    std err          t      P>|t|      [0.025      0.975]\n",
            "-----------------------------------------------------------------------------------------\n",
            "const                     0.6528      0.103      6.338      0.000       0.451       0.855\n",
            "segment_Mens E-Mail       0.7698      0.146      5.285      0.000       0.484       1.055\n",
            "segment_Womens E-Mail     0.4244      0.146      2.917      0.004       0.139       0.710\n",
            "==============================================================================\n",
            "Omnibus:                   141141.936   Durbin-Watson:                   2.007\n",
            "Prob(Omnibus):                  0.000   Jarque-Bera (JB):        700299070.532\n",
            "Skew:                          20.583   Prob(JB):                         0.00\n",
            "Kurtosis:                     513.801   Cond. No.                         3.73\n",
            "==============================================================================\n",
            "\n",
            "Warnings:\n",
            "[1] Standard Errors assume that the covariance matrix of the errors is correctly specified.\n"
          ],
          "name": "stdout"
        }
      ]
    },
    {
      "cell_type": "markdown",
      "metadata": {
        "id": "O9AU3R-ih3g1",
        "colab_type": "text"
      },
      "source": [
        "<br> \n",
        "\n",
        "The values of the coeficients associated to Men's E-Mail and Women's E-Mail reflect the averages obtained in the Bar Plot.\n",
        "\n",
        "* No E-Mail = const = **0.65** \n",
        "* Men's E-Mail = 0.65 + 0.77 = **1.42**\n",
        "* Women's E-Mail = 0.65 + 0.42 = **1.07**"
      ]
    },
    {
      "cell_type": "markdown",
      "metadata": {
        "id": "rDJseEBuTqul",
        "colab_type": "text"
      },
      "source": [
        "<br>\n",
        "\n",
        "### <font color=Darkred>**4. Discussion of the results**</font>"
      ]
    },
    {
      "cell_type": "markdown",
      "metadata": {
        "id": "RiRjOZoTUeJv",
        "colab_type": "text"
      },
      "source": [
        "The winning solution for the challenge was submitted by Nicolas Radcliffe of [Stochastic Solutions](http://stochasticsolutions.com/).\n",
        "\n",
        "His paper is titled, \"[Hillstrom’s MineThatData Email Analytics Challenge: An Approach Using Uplift Modelling](http://minethatdata.com/Stochastic_Solutions_E-Mail_Challenge_2008.04.30.pdf)\".\n",
        "\n",
        "Among their main results about the women's email campaign:\n",
        "\n",
        "* The campaign had a positive impact overall;\n",
        "\n",
        "* There are some segments for which the Women’s mailing, in particular, appeared to reduce rather than increase spending; \n",
        "\n",
        "* An extremely small number of people were responsible for over half of the incremental spend."
      ]
    }
  ]
}